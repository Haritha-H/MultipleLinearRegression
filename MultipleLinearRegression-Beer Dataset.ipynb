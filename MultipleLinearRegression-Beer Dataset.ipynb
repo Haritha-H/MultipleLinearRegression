{
 "cells": [
  {
   "cell_type": "code",
   "execution_count": 1,
   "metadata": {},
   "outputs": [],
   "source": [
    "import pandas as pd\n",
    "import numpy as np"
   ]
  },
  {
   "cell_type": "code",
   "execution_count": 2,
   "metadata": {},
   "outputs": [
    {
     "data": {
      "text/html": [
       "<div>\n",
       "<style scoped>\n",
       "    .dataframe tbody tr th:only-of-type {\n",
       "        vertical-align: middle;\n",
       "    }\n",
       "\n",
       "    .dataframe tbody tr th {\n",
       "        vertical-align: top;\n",
       "    }\n",
       "\n",
       "    .dataframe thead th {\n",
       "        text-align: right;\n",
       "    }\n",
       "</style>\n",
       "<table border=\"1\" class=\"dataframe\">\n",
       "  <thead>\n",
       "    <tr style=\"text-align: right;\">\n",
       "      <th></th>\n",
       "      <th>ABV</th>\n",
       "      <th>Ratings</th>\n",
       "      <th>Cellar Temperature</th>\n",
       "      <th>Score</th>\n",
       "    </tr>\n",
       "  </thead>\n",
       "  <tbody>\n",
       "    <tr>\n",
       "      <th>0</th>\n",
       "      <td>7.5</td>\n",
       "      <td>1</td>\n",
       "      <td>40-45</td>\n",
       "      <td>4.08</td>\n",
       "    </tr>\n",
       "    <tr>\n",
       "      <th>1</th>\n",
       "      <td>5.3</td>\n",
       "      <td>22</td>\n",
       "      <td>40-45</td>\n",
       "      <td>3.82</td>\n",
       "    </tr>\n",
       "    <tr>\n",
       "      <th>2</th>\n",
       "      <td>9.0</td>\n",
       "      <td>1</td>\n",
       "      <td>45-50</td>\n",
       "      <td>4.03</td>\n",
       "    </tr>\n",
       "    <tr>\n",
       "      <th>3</th>\n",
       "      <td>4.6</td>\n",
       "      <td>1</td>\n",
       "      <td>35-40</td>\n",
       "      <td>4.00</td>\n",
       "    </tr>\n",
       "    <tr>\n",
       "      <th>4</th>\n",
       "      <td>6.9</td>\n",
       "      <td>1</td>\n",
       "      <td>45-50</td>\n",
       "      <td>3.75</td>\n",
       "    </tr>\n",
       "  </tbody>\n",
       "</table>\n",
       "</div>"
      ],
      "text/plain": [
       "   ABV  Ratings Cellar Temperature  Score\n",
       "0  7.5        1              40-45   4.08\n",
       "1  5.3       22              40-45   3.82\n",
       "2  9.0        1              45-50   4.03\n",
       "3  4.6        1              35-40   4.00\n",
       "4  6.9        1              45-50   3.75"
      ]
     },
     "execution_count": 2,
     "metadata": {},
     "output_type": "execute_result"
    }
   ],
   "source": [
    "#Reading and displaying the dataset\n",
    "dataset = pd.read_csv('beer_data.csv')\n",
    "dataset.head()"
   ]
  },
  {
   "cell_type": "code",
   "execution_count": 12,
   "metadata": {},
   "outputs": [],
   "source": [
    "#Dealing with categorical values\n",
    "#Splitting the Celler Temperature into two columns as maximum temperature and minimum temperature\n",
    "dataset['Minimum Cellar Temperature'] = dataset['Cellar Temperature'].apply(lambda x: int(x.split('-')[0].strip()))\n",
    "dataset['Maximum Cellar Temperature'] = dataset['Cellar Temperature'].apply(lambda x: int(x.split('-')[1].strip()))\n",
    "dataset = dataset.drop(['Cellar Temperature'],axis =1)"
   ]
  },
  {
   "cell_type": "code",
   "execution_count": 18,
   "metadata": {},
   "outputs": [
    {
     "name": "stdout",
     "output_type": "stream",
     "text": [
      "   ABV  Ratings  Score  Minimum Cellar Temperature  Maximum Cellar Temperature\n",
      "0  7.5        1   4.08                          40                          45\n",
      "1  5.3       22   3.82                          40                          45\n",
      "2  9.0        1   4.03                          45                          50\n",
      "3  4.6        1   4.00                          35                          40\n",
      "4  6.9        1   3.75                          45                          50\n"
     ]
    }
   ],
   "source": [
    "print(dataset.head())"
   ]
  },
  {
   "cell_type": "code",
   "execution_count": 19,
   "metadata": {},
   "outputs": [],
   "source": [
    "#Plotting a heatmap to check how different variables correlate with each other\n",
    "import seaborn as sns\n",
    "import matplotlib.pyplot as plt"
   ]
  },
  {
   "cell_type": "code",
   "execution_count": 25,
   "metadata": {},
   "outputs": [
    {
     "data": {
      "text/plain": [
       "<AxesSubplot:>"
      ]
     },
     "execution_count": 25,
     "metadata": {},
     "output_type": "execute_result"
    },
    {
     "data": {
      "image/png": "[encoded data removed]",
      "text/plain": [
       "<Figure size 432x288 with 2 Axes>"
      ]
     },
     "metadata": {
      "needs_background": "light"
     },
     "output_type": "display_data"
    }
   ],
   "source": [
    "corr = dataset.corr()\n",
    "sns.heatmap(corr)"
   ]
  },
  {
   "cell_type": "code",
   "execution_count": 26,
   "metadata": {},
   "outputs": [],
   "source": [
    "#classifying dependent and independent variables\n",
    "x = dataset[['ABV','Ratings','Minimum Cellar Temperature','Maximum Cellar Temperature']]\n",
    "y = dataset['Score']"
   ]
  },
  {
   "cell_type": "code",
   "execution_count": 29,
   "metadata": {},
   "outputs": [],
   "source": [
    "#split traing and testing data\n",
    "from sklearn.model_selection import train_test_split\n",
    "x_train,x_test,y_train,y_test = train_test_split(x,y,test_size=0.2)"
   ]
  },
  {
   "cell_type": "code",
   "execution_count": 30,
   "metadata": {},
   "outputs": [],
   "source": [
    "#Training and fitting the model\n",
    "from sklearn.linear_model import LinearRegression\n",
    "regressor = LinearRegression().fit(x_train,y_train)"
   ]
  },
  {
   "cell_type": "code",
   "execution_count": 31,
   "metadata": {},
   "outputs": [
    {
     "name": "stdout",
     "output_type": "stream",
     "text": [
      "Predictions: [3.37884626 3.15370704 3.49328305 2.96474803 2.95454631 3.24249514\n",
      " 3.31008762 2.88363126 3.29478504 3.18576712 3.02120225 3.24343168\n",
      " 3.1076991  3.07418413 3.35790698 3.08115807 2.93049689 3.10890945\n",
      " 3.11696429 3.32093715 3.65522119 2.89875482 3.04520748 2.98726911\n",
      " 3.23042034 3.17650193 3.36208878 3.38138206 3.48505457 3.27368392\n",
      " 3.21792737 3.16775509 3.26674492 3.48079007 2.98754292 3.118001\n",
      " 3.14912454 3.37982699 4.24350136 3.2792379  3.22354659 3.20949854\n",
      " 2.84712765 3.17275578 3.19148651 3.56489548 3.56832363 3.23552121\n",
      " 2.93778882 3.06908327 2.93081489 3.10395295 3.95168978 3.0480998\n",
      " 3.20949854 3.01356559 2.9517367  3.25134215 3.57884336 3.22157333\n",
      " 3.15880791 2.99840737 3.10301642 3.16001825 2.88803473 3.00940126\n",
      " 3.18628547 2.95871063 3.06238314 3.60299295 2.97140397 3.03249668\n",
      " 3.25747973 3.25888222 2.79039962 3.20668892 3.07726755 3.26965471\n",
      " 2.91686702 3.24530475 3.81314758 2.93872536 3.23468485 3.22761073\n",
      " 3.17369232 3.20491603 3.20668892 3.20949854 3.23010234 3.50844126\n",
      " 3.22854727 3.11575394 3.28083716 3.10301642 3.33409285 3.07960658\n",
      " 3.16317259 3.09604248 3.31477031 3.25429613 3.16578184 3.28111097\n",
      " 3.23739428 3.22157333 2.62999909 2.95871063 2.94621765 3.31893463\n",
      " 3.54663429 3.01932918 3.21902007 3.24853254 3.10301642 3.118001\n",
      " 3.47338048 3.0611728  3.19274105 3.74434476 3.08406786 3.31129797\n",
      " 3.08084007 3.13954135 3.63973571 3.54720146 3.48443604 3.0672102\n",
      " 3.20397949 2.94018026 3.29410484 3.21553593 3.18576712 3.53325359\n",
      " 3.24155861 3.65003761 3.38988435 3.01043798 2.89594521 3.19850464\n",
      " 3.14766964 3.00543729 3.24436822 3.19700556 3.0810137  2.99961772\n",
      " 2.91686702 2.93175142 2.91686702 3.56812327 3.21729136 2.95080016\n",
      " 3.41684355 3.48027171 3.33152779 2.95735592 3.24155861 3.40164114\n",
      " 3.11092689 3.2145994  2.98150552 3.20533421 3.00121698 3.20762546\n",
      " 3.46257769 2.97453158 3.54168242 3.07886682 3.22157333 3.36077825\n",
      " 3.11331832 2.91593048 3.2792379  3.01932918 3.08209461 3.88288695\n",
      " 3.2145994  3.17369232 3.02938653 3.17275578 3.05752683 2.97453158\n",
      " 3.09510594 3.1051633  3.17972972 3.12300169 2.93175142 3.10395295\n",
      " 3.0672102  3.0541372  2.98483348 3.42864454 3.26069005 2.98754292\n",
      " 3.27830136 3.2792379  3.26018916 3.60903035 2.9517367  3.14003298\n",
      " 3.24624129 3.19461413 3.12164697 2.96568457 3.25644302 3.44956635\n",
      " 3.13694956 3.47194306 2.88199733 2.96568457 3.21418122 3.33621048\n",
      " 2.98660638 3.20949854 3.22600326 3.23000216 3.50516107 3.08767376\n",
      " 3.31691719 3.17275578 3.77638273 3.12487476 3.06814673 3.02271313\n",
      " 3.86921288 3.46351423 3.2025246  3.43332723 3.05331831 2.9577741\n",
      " 2.94944544 3.31317104 3.11987408 3.12053113 3.42953689 3.36896254\n",
      " 2.92384095 3.29599538 3.06077567 2.95454631 3.4714247  3.19050579\n",
      " 3.25644302 3.12632966 2.98941599 3.46913345 3.01839264 3.14256878\n",
      " 3.35812481 3.32618238 3.57474427 2.95080016 3.43051762 3.12393822\n",
      " 3.48599111 3.05933824 2.97265851 3.29922317 2.91686702 3.22854727\n",
      " 3.14079589 2.96728383 3.14480121 3.64577311 3.07820409 3.13882263\n",
      " 3.73788918 3.15077979 3.01932918 3.04628839 3.18764019 2.97869591\n",
      " 3.48453621 2.95829245 3.11186343 3.05465556 3.00846473 3.07512067\n",
      " 3.24155861 3.53325359 3.14402368 3.21511776 3.50629438 4.43945073\n",
      " 2.93175142 3.15838973 3.34064861 3.27433739 3.23552121 3.42864454\n",
      " 3.46819691 2.96620293 3.06814673 3.25710574 3.35085034 3.40314023\n",
      " 3.19367759 3.2732005  3.46351423 3.10259824 3.0930885  3.54022753\n",
      " 3.36587912 3.34710419 3.31223451 3.24946908 3.15183397 3.69465591\n",
      " 3.10957217 3.10207988 3.24998744 3.24998744 2.84712765 3.22599684\n",
      " 3.47194306 3.12997562 3.05634574 3.17369232 6.93806546 3.48818218\n",
      " 2.97265851 3.70954032 3.27642829 2.99971789 3.27433739 3.07726755\n",
      " 3.1318487  2.90198261 3.0224126 ]\n"
     ]
    }
   ],
   "source": [
    "#Predicting the score\n",
    "y_predict = regressor.predict(x_test)\n",
    "print('Predictions:',y_predict)"
   ]
  },
  {
   "cell_type": "code",
   "execution_count": 32,
   "metadata": {},
   "outputs": [
    {
     "name": "stdout",
     "output_type": "stream",
     "text": [
      "\n",
      " ----------------------------------------\n",
      "RMLSE :  0.22404975319531314\n",
      "Score :  0.7759502468046868\n"
     ]
    }
   ],
   "source": [
    "def rmlse(y_test, y_pred):\n",
    "    error = np.square(np.log10(y_pred +1) - np.log10(y_test +1)).mean() ** 0.5\n",
    "    score = 1 - error\n",
    "    return error, score\n",
    "\n",
    "error, score = rmlse(y_test, y_predict)\n",
    "\n",
    "print(\"\\n\",'-'*40)\n",
    "print(\"RMLSE : \", error)\n",
    "print(\"Score : \", score)"
   ]
  },
  {
   "cell_type": "code",
   "execution_count": null,
   "metadata": {},
   "outputs": [],
   "source": []
  }
 ],
 "metadata": {
  "kernelspec": {
   "display_name": "Python 3",
   "language": "python",
   "name": "python3"
  },
  "language_info": {
   "codemirror_mode": {
    "name": "ipython",
    "version": 3
   },
   "file_extension": ".py",
   "mimetype": "text/x-python",
   "name": "python",
   "nbconvert_exporter": "python",
   "pygments_lexer": "ipython3",
   "version": "3.8.3"
  }
 },
 "nbformat": 4,
 "nbformat_minor": 4
}
